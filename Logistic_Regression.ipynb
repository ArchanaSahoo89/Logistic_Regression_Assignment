{
  "nbformat": 4,
  "nbformat_minor": 0,
  "metadata": {
    "colab": {
      "provenance": [],
      "authorship_tag": "ABX9TyMMVZ5EswH8d273vrYm0zpl",
      "include_colab_link": true
    },
    "kernelspec": {
      "name": "python3",
      "display_name": "Python 3"
    },
    "language_info": {
      "name": "python"
    }
  },
  "cells": [
    {
      "cell_type": "markdown",
      "metadata": {
        "id": "view-in-github",
        "colab_type": "text"
      },
      "source": [
        "<a href=\"https://colab.research.google.com/github/ArchanaSahoo89/Logistic_Regression_Assignment/blob/main/Logistic_Regression.ipynb\" target=\"_parent\"><img src=\"https://colab.research.google.com/assets/colab-badge.svg\" alt=\"Open In Colab\"/></a>"
      ]
    },
    {
      "cell_type": "code",
      "source": [
        "# Theoritical Questions & Answers:"
      ],
      "metadata": {
        "id": "G88tlOtG9N_N"
      },
      "execution_count": null,
      "outputs": []
    },
    {
      "cell_type": "markdown",
      "source": [
        "    1. What is Logistic Regression, and how does it differ from Linear Regression?\n",
        "\n",
        "Logistic Regression is a statistical method used for binary classification problems.\n",
        "It predicts the probability that a given input point belongs to a certain class.\n",
        "Unlike Linear Regression, which predicts continuous values, Logistic Regression outputs probabilities that are then mapped to binary outcomes (0 or 1) using a threshold (usually 0.5).\n"
      ],
      "metadata": {
        "id": "U7GhYRUJ6BJs"
      }
    },
    {
      "cell_type": "markdown",
      "source": [
        "    2. What is the mathematical equation of Logistic Regression?\n",
        "\n",
        "The logistic function (sigmoid function) is given by: [ P(Y=1|X) = \\frac{1}{1 + e^{-(\\beta_0 + \\beta_1X_1 + \\beta_2X_2 + ... + \\beta_nX_n)}} ]\n",
        "Here, (P(Y=1|X)) is the probability of the positive class, and (\\beta_0, \\beta_1, ..., \\beta_n) are the coefficients."
      ],
      "metadata": {
        "id": "TYwvOef26Y4R"
      }
    },
    {
      "cell_type": "markdown",
      "source": [
        "    3. Why do we use the Sigmoid function in Logistic Regression?\n",
        "\n",
        "The Sigmoid function maps any real-valued number into the range (0, 1), making it suitable for modeling probabilities.\n",
        "It also has a nice derivative, which is useful for optimization during training."
      ],
      "metadata": {
        "id": "jb5rwYcA7HUg"
      }
    },
    {
      "cell_type": "markdown",
      "source": [
        "     4. What is the cost function of Logistic Regression?\n",
        "\n",
        "The cost function used in Logistic Regression is the log loss (binary cross-entropy): [ J(\\beta) = -\\frac{1}{m} \\sum_{i=1}^{m} [y^{(i)} \\log(h_\\beta(x^{(i)})) + (1 - y^{(i)}) \\log(1 - h_\\beta(x^{(i)}))] ]\n",
        "Where (h_\\beta(x)) is the predicted probability."
      ],
      "metadata": {
        "id": "U2g3nZ957Q5s"
      }
    },
    {
      "cell_type": "markdown",
      "source": [
        "    5. What is Regularization in Logistic Regression? Why is it needed?\n",
        "\n",
        "Regularization is a technique used to prevent overfitting by adding a penalty term to the cost function.\n",
        "It helps to keep the model simple and generalizes better to unseen data."
      ],
      "metadata": {
        "id": "2zMm5I6v7Xmo"
      }
    },
    {
      "cell_type": "markdown",
      "source": [
        "    6. Explain the difference between Lasso, Ridge, and Elastic Net regression.\n",
        "\n",
        "Lasso (L1 Regularization): Adds a penalty equal to the absolute value of the coefficients. It can shrink some coefficients to zero, effectively performing feature selection.\n",
        "Ridge (L2 Regularization): Adds a penalty equal to the square of the coefficients. It does not shrink coefficients to zero but reduces their magnitude.\n",
        "Elastic Net: Combines both L1 and L2 penalties. It is useful when there are multiple features correlated with each other."
      ],
      "metadata": {
        "id": "y-YK-bgW7drU"
      }
    },
    {
      "cell_type": "markdown",
      "source": [
        "    7. When should we use Elastic Net instead of Lasso or Ridge?\n",
        "\n",
        "We use Elastic Net when you have a large number of features, some of which are correlated.\n",
        "It can provide a balance between Lasso and Ridge, allowing for both feature selection and coefficient shrinkage."
      ],
      "metadata": {
        "id": "TkiLl8_m7khF"
      }
    },
    {
      "cell_type": "markdown",
      "source": [
        "    8. What is the impact of the regularization parameter (λ) in Logistic Regression?\n",
        "\n",
        "The regularization parameter controls the strength of the penalty.\n",
        "A larger λ increases the penalty, leading to simpler models (more regularization), while a smaller λ allows for more complex models (less regularization)."
      ],
      "metadata": {
        "id": "MwD6GnLO7sYu"
      }
    },
    {
      "cell_type": "markdown",
      "source": [
        "    9. What are the key assumptions of Logistic Regression?\n",
        "\n",
        "The dependent variable is binary.\n",
        "The observations are independent.\n",
        "There is a linear relationship between the logit of the outcome and the independent variables.\n",
        "No multicollinearity among independent variables.\n"
      ],
      "metadata": {
        "id": "lUcGIsY-7zcf"
      }
    },
    {
      "cell_type": "markdown",
      "source": [
        "    10. What are some alternatives to Logistic Regression for classification tasks?\n",
        "\n",
        "Alternatives include Decision Trees, Random Forests, Support Vector Machines (SVM), Gradient Boosting Machines, and Neural Networks.\n"
      ],
      "metadata": {
        "id": "p9sLX6nL7-4U"
      }
    },
    {
      "cell_type": "markdown",
      "source": [
        "    11. What are Classification Evaluation Metrics?\n",
        "\n",
        "Common metrics include Accuracy, Precision, Recall, F1-Score, ROC-AUC, and Confusion Matrix."
      ],
      "metadata": {
        "id": "_9QT0D1D8D9B"
      }
    },
    {
      "cell_type": "markdown",
      "source": [
        "    12. How does class imbalance affect Logistic Regression?\n",
        "\n",
        "Class imbalance can lead to biased predictions towards the majority class.\n",
        "It may result in high accuracy but poor performance on the minority class.\n"
      ],
      "metadata": {
        "id": "SO2fXIIS8Jbg"
      }
    },
    {
      "cell_type": "markdown",
      "source": [
        "    13. What is Hyperparameter Tuning in Logistic Regression?\n",
        "\n",
        "Hyperparameter tuning involves optimizing the parameters of the model (like regularization strength and penalty type) to improve model performance.\n"
      ],
      "metadata": {
        "id": "KNkwG3JH8P-N"
      }
    },
    {
      "cell_type": "markdown",
      "source": [
        "    14. What are different solvers in Logistic Regression? Which one should be used?\n",
        "\n",
        "Common solvers include:\n",
        "liblinear: Good for small datasets.\n",
        "saga: Works well with large datasets and supports L1 and L2 regularization.\n",
        "lbfgs: Good for large datasets and supports L2 regularization.\n",
        "The choice of solver depends on the dataset size and the type of regularization."
      ],
      "metadata": {
        "id": "6z2EXMku8Wgc"
      }
    },
    {
      "cell_type": "markdown",
      "source": [
        "    15. How is Logistic Regression extended for multiclass classification?\n",
        "\n",
        "Logistic Regression can be extended using techniques like One-vs-Rest (OvR) or Softmax Regression (Multinomial Logistic Regression).\n"
      ],
      "metadata": {
        "id": "XAz0yywy8czS"
      }
    },
    {
      "cell_type": "markdown",
      "source": [
        "    16. What are the advantages and disadvantages of Logistic Regression?\n",
        "\n",
        "Advantages: Simple to implement, interpretable, works well with linearly separable data, and efficient for binary classification.\n",
        "Disadvantages: Assumes linearity between the independent variables and the log-odds, sensitive to outliers, and struggles with complex relationships.\n"
      ],
      "metadata": {
        "id": "Z_BwOzkt8iz8"
      }
    },
    {
      "cell_type": "markdown",
      "source": [
        "    17. What are some use cases of Logistic Regression?\n",
        "\n",
        "Use cases of Logistic Regression include spam detection, credit scoring, medical diagnosis, and customer churn prediction."
      ],
      "metadata": {
        "id": "tAjpnRfK8pLG"
      }
    },
    {
      "cell_type": "markdown",
      "source": [
        "    18. What is the difference between Softmax Regression and Logistic Regression?\n",
        "\n",
        "Softmax Regression is used for multiclass classification, while Logistic Regression is typically used for binary classification. Softmax outputs probabilities for multiple classes, while Logistic Regression outputs a single probability."
      ],
      "metadata": {
        "id": "9itqDhyN8zjv"
      }
    },
    {
      "cell_type": "markdown",
      "source": [
        "    19. How do we choose between One-vs-Rest (OvR) and Softmax for multiclass classification?\n",
        "\n",
        "We use OvR when the classes are not mutually exclusive or when we have a large number of classes.\n",
        "And we Use Softmax when classes are mutually exclusive."
      ],
      "metadata": {
        "id": "vhKf-t-h85CZ"
      }
    },
    {
      "cell_type": "markdown",
      "source": [
        "    20. How do we interpret coefficients in Logistic Regression?\n",
        "\n",
        "The coefficients represent the change in the log-odds of the outcome for a one-unit increase in the predictor variable, holding all other variables constant."
      ],
      "metadata": {
        "id": "KnfVu-Br9AGA"
      }
    },
    {
      "cell_type": "code",
      "source": [
        "# Practical Questions & Answers:"
      ],
      "metadata": {
        "id": "vIimqS709G-X"
      },
      "execution_count": null,
      "outputs": []
    },
    {
      "cell_type": "code",
      "source": [
        "# 1. Write a Python program that loads a dataset, splits it into training and testing sets, applies Logistic Regression, and prints the model accuracy.\n",
        "\n",
        "\n",
        "import pandas as pd\n",
        "from sklearn.model_selection import train_test_split\n",
        "from sklearn.linear_model import LogisticRegression\n",
        "from sklearn.metrics import accuracy_score\n",
        "\n",
        "# Load dataset (using Iris dataset for demonstration)\n",
        "data = pd.read_csv('https://archive.ics.uci.edu/ml/machine-learning-databases/iris/iris.data',\n",
        "                   header=None,\n",
        "                   names=['sepal_length', 'sepal_width', 'petal_length', 'petal_width', 'species'])\n",
        "\n",
        "# Encode target variable\n",
        "data['species'] = data['species'].astype('category').cat.codes\n",
        "\n",
        "# Split dataset\n",
        "X = data.drop('species', axis=1)\n",
        "y = data['species']\n",
        "X_train, X_test, y_train, y_test = train_test_split(X, y, test_size=0.2, random_state=42)\n",
        "\n",
        "# Train Logistic Regression\n",
        "model = LogisticRegression(max_iter=200)\n",
        "model.fit(X_train, y_train)\n",
        "\n",
        "# Predict and evaluate\n",
        "y_pred = model.predict(X_test)\n",
        "accuracy = accuracy_score(y_test, y_pred)\n",
        "print(f'Model Accuracy: {accuracy:.2f}')"
      ],
      "metadata": {
        "id": "pfl2FsWL9i0S",
        "colab": {
          "base_uri": "https://localhost:8080/"
        },
        "outputId": "e20b0aa5-c10b-4f38-dc92-ffbf9f76ad0a"
      },
      "execution_count": null,
      "outputs": [
        {
          "output_type": "stream",
          "name": "stdout",
          "text": [
            "Model Accuracy: 1.00\n"
          ]
        }
      ]
    },
    {
      "cell_type": "code",
      "source": [
        "# 2. Write a Python program to apply L1 regularization (Lasso) on a dataset using LogisticRegression(penalty='l1') and print the model accuracy.\n",
        "\n",
        "\n",
        "# L1 Regularization (Lasso)\n",
        "model_l1 = LogisticRegression(penalty='l1', solver='liblinear', max_iter=200)\n",
        "model_l1.fit(X_train, y_train)\n",
        "\n",
        "# Predict and evaluate\n",
        "y_pred_l1 = model_l1.predict(X_test)\n",
        "accuracy_l1 = accuracy_score(y_test, y_pred_l1)\n",
        "print(f'L1 Regularization Model Accuracy: {accuracy_l1:.2f}')"
      ],
      "metadata": {
        "id": "q_ZdDS1mBsNX",
        "colab": {
          "base_uri": "https://localhost:8080/"
        },
        "outputId": "095f396c-bc39-411a-ae08-8d44f1e24615"
      },
      "execution_count": 28,
      "outputs": [
        {
          "output_type": "stream",
          "name": "stdout",
          "text": [
            "L1 Regularization Model Accuracy: 0.83\n"
          ]
        }
      ]
    },
    {
      "cell_type": "code",
      "source": [
        "# 3. Write a Python program to train Logistic Regression with L2 regularization (Ridge) using LogisticRegression(penalty='l2'). Print model accuracy and coefficients.\n",
        "\n",
        "\n",
        "# L2 Regularization (Ridge)\n",
        "model_l2 = LogisticRegression(penalty='l2', max_iter=200)\n",
        "model_l2.fit(X_train, y_train)\n",
        "\n",
        "# Predict and evaluate\n",
        "y_pred_l2 = model_l2.predict(X_test)\n",
        "accuracy_l2 = accuracy_score(y_test, y_pred_l2)\n",
        "print(f'L2 Regularization Model Accuracy: {accuracy_l2:.2f}')\n",
        "print(f'Coefficients: {model_l2.coef_}')"
      ],
      "metadata": {
        "id": "yfxooa5oB1vv",
        "colab": {
          "base_uri": "https://localhost:8080/"
        },
        "outputId": "23083250-3753-495d-9f96-86b9110ef846"
      },
      "execution_count": 29,
      "outputs": [
        {
          "output_type": "stream",
          "name": "stdout",
          "text": [
            "L2 Regularization Model Accuracy: 0.82\n",
            "Coefficients: [[-1.03040105e+00  2.62999562e+00 -3.34256490e-02 -2.78684267e-01\n",
            "  -1.66402901e-01  1.61316640e-03]]\n"
          ]
        }
      ]
    },
    {
      "cell_type": "code",
      "source": [
        "# 4.  Write a Python program to train Logistic Regression with Elastic Net Regularization (penalty='elasticnet').\n",
        "\n",
        "\n",
        "# Elastic Net Regularization\n",
        "model_en = LogisticRegression(penalty='elasticnet', solver='saga', l1_ratio=0.5, max_iter=200)\n",
        "model_en.fit(X_train, y_train)\n",
        "\n",
        "# Predict and evaluate\n",
        "y_pred_en = model_en.predict(X_test)\n",
        "accuracy_en = accuracy_score(y_test, y_pred_en)\n",
        "print(f'Elastic Net Model Accuracy: {accuracy_en:.2f}')"
      ],
      "metadata": {
        "id": "N68EVuguCCX_",
        "colab": {
          "base_uri": "https://localhost:8080/"
        },
        "outputId": "394b34bf-27de-4157-c74e-f480c40b2066"
      },
      "execution_count": 30,
      "outputs": [
        {
          "output_type": "stream",
          "name": "stdout",
          "text": [
            "Elastic Net Model Accuracy: 0.70\n"
          ]
        }
      ]
    },
    {
      "cell_type": "code",
      "source": [
        "# 5. Write a Python program to train a Logistic Regression model for multiclass classification using multi_class='ovr'.\n",
        "\n",
        "# Multiclass classification using One-vs-Rest\n",
        "model_ovr = LogisticRegression(multi_class='ovr', max_iter=200)\n",
        "model_ovr.fit(X_train, y_train)\n",
        "\n",
        "# Predict and evaluate\n",
        "y_pred_ovr = model_ovr.predict(X_test)\n",
        "accuracy_ovr = accuracy_score(y_test, y_pred_ovr)\n",
        "print(f'One-vs-Rest Model Accuracy: {accuracy_ovr:.2f}')"
      ],
      "metadata": {
        "id": "B8JcNlhsCOkZ",
        "colab": {
          "base_uri": "https://localhost:8080/"
        },
        "outputId": "94f22b17-5a15-4a23-db37-ae29fa7403cb"
      },
      "execution_count": 31,
      "outputs": [
        {
          "output_type": "stream",
          "name": "stdout",
          "text": [
            "One-vs-Rest Model Accuracy: 0.82\n"
          ]
        }
      ]
    },
    {
      "cell_type": "code",
      "source": [
        "# 6. Write a Python program to apply GridSearchCV to tune the hyperparameters (C and penalty) of Logistic Regression. Print the best parameters and accuracy.\n",
        "\n",
        "\n",
        "from sklearn.model_selection import GridSearchCV\n",
        "\n",
        "# Define the parameter grid\n",
        "param_grid = {\n",
        "    'C': [0.01, 0.1, 1, 10, 100],\n",
        "    'penalty': ['l1', 'l2', 'elasticnet'],\n",
        "    'solver': ['liblinear', 'saga']\n",
        "}\n",
        "\n",
        "# Create a GridSearchCV object\n",
        "grid_search = GridSearchCV(LogisticRegression(max_iter=200), param_grid, cv=5)\n",
        "grid_search.fit(X_train, y_train)\n",
        "\n",
        "# Best parameters and accuracy\n",
        "print(f'Best Parameters: {grid_search.best_params_}')\n",
        "print(f'Best Cross-Validation Accuracy: {grid_search.best_score_:.2f}')"
      ],
      "metadata": {
        "id": "WKVubWcVCXKg",
        "colab": {
          "base_uri": "https://localhost:8080/"
        },
        "outputId": "1f4f6449-3990-4ecc-b621-7b1f6f8419b7"
      },
      "execution_count": 32,
      "outputs": [
        {
          "output_type": "stream",
          "name": "stdout",
          "text": [
            "Best Parameters: {'C': 0.1, 'penalty': 'l2', 'solver': 'liblinear'}\n",
            "Best Cross-Validation Accuracy: 0.79\n"
          ]
        }
      ]
    },
    {
      "cell_type": "code",
      "source": [
        "# 7. Write a Python program to evaluate Logistic Regression using Stratified K-Fold Cross-Validation. Print the average accuracy.\n",
        "\n",
        "from sklearn.model_selection import StratifiedKFold\n",
        "from sklearn.metrics import accuracy_score\n",
        "\n",
        "# Stratified K-Fold Cross-Validation\n",
        "skf = StratifiedKFold(n_splits=5)\n",
        "accuracies = []\n",
        "\n",
        "for train_index, test_index in skf.split(X, y):\n",
        "    X_train, X_test = X.iloc[train_index], X.iloc[test_index]\n",
        "    y_train, y_test = y.iloc[train_index], y.iloc[test_index]\n",
        "\n",
        "    model_skf = LogisticRegression(max_iter=200)\n",
        "    model_skf.fit(X_train, y_train)\n",
        "    y_pred_skf = model_skf.predict(X_test)\n",
        "    accuracies.append(accuracy_score(y_test, y_pred_skf))\n",
        "\n",
        "print(f'Average Accuracy from Stratified K-Fold: {sum(accuracies) / len(accuracies):.2f}')"
      ],
      "metadata": {
        "id": "AOGjZd3-Chcl",
        "colab": {
          "base_uri": "https://localhost:8080/"
        },
        "outputId": "01ea98e8-eea1-4460-d4c3-875401002d2d"
      },
      "execution_count": 33,
      "outputs": [
        {
          "output_type": "stream",
          "name": "stdout",
          "text": [
            "Average Accuracy from Stratified K-Fold: 0.78\n"
          ]
        }
      ]
    },
    {
      "cell_type": "code",
      "source": [
        "# 8. Write a Python program to load a dataset from a CSV file, apply Logistic Regression, and evaluate its accuracy.\n",
        "\n",
        "\n",
        "import pandas as pd\n",
        "from sklearn.model_selection import train_test_split\n",
        "from sklearn.linear_model import LogisticRegression\n",
        "from sklearn.metrics import accuracy_score, confusion_matrix, classification_report\n",
        "\n",
        "# Load dataset from CSV file\n",
        "# Make sure to provide the correct path to your CSV file\n",
        "data = pd.read_csv(\"https://raw.githubusercontent.com/datasciencedojo/datasets/master/titanic.csv\")\n",
        "\n",
        "# Display the first few rows of the dataset\n",
        "print(data.head())\n",
        "\n",
        "# Preprocess the dataset\n",
        "# Convert categorical variables to numeric\n",
        "data['Sex'] = data['Sex'].map({'male': 0, 'female': 1})\n",
        "\n",
        "# Fill missing values\n",
        "data['Age'].fillna(data['Age'].median(), inplace=True)\n",
        "data['Embarked'].fillna('S', inplace=True)\n",
        "data['Embarked'] = data['Embarked'].map({'C': 0, 'Q': 1, 'S': 2})\n",
        "\n",
        "# Select features and target variable\n",
        "# Using 'Pclass', 'Sex', 'Age', 'SibSp', 'Parch', 'Fare' as features\n",
        "X = data[['Pclass', 'Sex', 'Age', 'SibSp', 'Parch', 'Fare']]\n",
        "y = data['Survived']  # Target variable\n",
        "\n",
        "# Split dataset into training and testing sets\n",
        "X_train, X_test, y_train, y_test = train_test_split(X, y, test_size=0.2, random_state=42)\n",
        "\n",
        "# Train Logistic Regression model\n",
        "model = LogisticRegression(max_iter=200)\n",
        "model.fit(X_train, y_train)\n",
        "\n",
        "# Predict on the test set\n",
        "y_pred = model.predict(X_test)\n",
        "\n",
        "# Evaluate the model\n",
        "accuracy = accuracy_score(y_test, y_pred)\n",
        "conf_matrix = confusion_matrix(y_test, y_pred)\n",
        "class_report = classification_report(y_test, y_pred)\n",
        "\n",
        "# Print results\n",
        "print(f'Model Accuracy: {accuracy:.2f}')\n",
        "print('Confusion Matrix:')\n",
        "print(conf_matrix)\n",
        "print('Classification Report:')\n",
        "print(class_report)"
      ],
      "metadata": {
        "id": "OfdbjRILCqpw",
        "colab": {
          "base_uri": "https://localhost:8080/"
        },
        "outputId": "6b1ef97f-0a25-4ef7-b2ee-f187b2e06818"
      },
      "execution_count": 34,
      "outputs": [
        {
          "output_type": "stream",
          "name": "stdout",
          "text": [
            "   PassengerId  Survived  Pclass  \\\n",
            "0            1         0       3   \n",
            "1            2         1       1   \n",
            "2            3         1       3   \n",
            "3            4         1       1   \n",
            "4            5         0       3   \n",
            "\n",
            "                                                Name     Sex   Age  SibSp  \\\n",
            "0                            Braund, Mr. Owen Harris    male  22.0      1   \n",
            "1  Cumings, Mrs. John Bradley (Florence Briggs Th...  female  38.0      1   \n",
            "2                             Heikkinen, Miss. Laina  female  26.0      0   \n",
            "3       Futrelle, Mrs. Jacques Heath (Lily May Peel)  female  35.0      1   \n",
            "4                           Allen, Mr. William Henry    male  35.0      0   \n",
            "\n",
            "   Parch            Ticket     Fare Cabin Embarked  \n",
            "0      0         A/5 21171   7.2500   NaN        S  \n",
            "1      0          PC 17599  71.2833   C85        C  \n",
            "2      0  STON/O2. 3101282   7.9250   NaN        S  \n",
            "3      0            113803  53.1000  C123        S  \n",
            "4      0            373450   8.0500   NaN        S  \n",
            "Model Accuracy: 0.81\n",
            "Confusion Matrix:\n",
            "[[92 13]\n",
            " [21 53]]\n",
            "Classification Report:\n",
            "              precision    recall  f1-score   support\n",
            "\n",
            "           0       0.81      0.88      0.84       105\n",
            "           1       0.80      0.72      0.76        74\n",
            "\n",
            "    accuracy                           0.81       179\n",
            "   macro avg       0.81      0.80      0.80       179\n",
            "weighted avg       0.81      0.81      0.81       179\n",
            "\n"
          ]
        }
      ]
    },
    {
      "cell_type": "code",
      "source": [
        "# 9. Write a Python program to apply RandomizedSearchCV for tuning hyperparameters (C, penalty, solver) in Logistic Regression. Print the best parameters and accuracy.\n",
        "\n",
        "import numpy as np\n",
        "import pandas as pd\n",
        "import warnings\n",
        "from sklearn.datasets import load_iris\n",
        "from sklearn.model_selection import train_test_split, RandomizedSearchCV\n",
        "from sklearn.linear_model import LogisticRegression\n",
        "from sklearn.metrics import accuracy_score\n",
        "from sklearn.preprocessing import StandardScaler\n",
        "\n",
        "# Suppress all warnings\n",
        "warnings.filterwarnings(\"ignore\")\n",
        "\n",
        "# Load dataset (using Iris dataset as an example)\n",
        "data = load_iris()\n",
        "X = data.data\n",
        "y = data.target\n",
        "\n",
        "# Split the dataset into training and testing sets\n",
        "X_train, X_test, y_train, y_test = train_test_split(X, y, test_size=0.2, random_state=42)\n",
        "\n",
        "# Scale the data\n",
        "scaler = StandardScaler()\n",
        "X_train = scaler.fit_transform(X_train)\n",
        "X_test = scaler.transform(X_test)\n",
        "\n",
        "# Create a Logistic Regression model with increased max_iter\n",
        "log_reg = LogisticRegression(max_iter=5000, solver='lbfgs', penalty='l2')\n",
        "\n",
        "# Define valid solver-penalty combinations\n",
        "valid_combinations = {\n",
        "    'lbfgs': ['l2']\n",
        "}\n",
        "\n",
        "# Generate valid parameter grid\n",
        "def generate_param_grid():\n",
        "    param_grid = []\n",
        "    C_values = np.logspace(-4, 4, 20)\n",
        "    for solver, penalties in valid_combinations.items():\n",
        "        for penalty in penalties:\n",
        "            param = {'solver': [solver], 'penalty': [penalty], 'C': C_values}\n",
        "            param_grid.append(param)\n",
        "    return param_grid\n",
        "\n",
        "param_dist = generate_param_grid()\n",
        "\n",
        "# Set up RandomizedSearchCV\n",
        "random_search = RandomizedSearchCV(\n",
        "    estimator=log_reg,\n",
        "    param_distributions=param_dist,\n",
        "    n_iter=20,  # Reduced for efficiency\n",
        "    scoring='accuracy',\n",
        "    cv=5,  # 5-fold cross-validation\n",
        "    verbose=1,\n",
        "    random_state=42,\n",
        "    n_jobs=-1,  # Use all available cores\n",
        "    error_score='raise'  # Raise an error instead of setting NaN scores\n",
        ")\n",
        "\n",
        "# Fit the model\n",
        "random_search.fit(X_train, y_train)\n",
        "\n",
        "# Get the best parameters and best score\n",
        "best_params = random_search.best_params_\n",
        "best_score = random_search.best_score_\n",
        "\n",
        "# Evaluate the model on the test set\n",
        "y_pred = random_search.predict(X_test)\n",
        "test_accuracy = accuracy_score(y_test, y_pred)\n",
        "\n",
        "# Print the results\n",
        "print(\"Best Parameters:\", best_params)\n",
        "print(\"Best Cross-Validation Accuracy:\", best_score)\n",
        "print(\"Test Set Accuracy:\", test_accuracy)\n"
      ],
      "metadata": {
        "id": "GhAKvWVFEH__",
        "colab": {
          "base_uri": "https://localhost:8080/"
        },
        "outputId": "31c2c332-54ac-429e-d1ca-7b5de94cb5c3"
      },
      "execution_count": 35,
      "outputs": [
        {
          "output_type": "stream",
          "name": "stdout",
          "text": [
            "Fitting 5 folds for each of 20 candidates, totalling 100 fits\n",
            "Best Parameters: {'solver': 'lbfgs', 'penalty': 'l2', 'C': 1.623776739188721}\n",
            "Best Cross-Validation Accuracy: 0.9583333333333334\n",
            "Test Set Accuracy: 1.0\n"
          ]
        }
      ]
    },
    {
      "cell_type": "code",
      "source": [
        "#10. Write a Python program to implement One-vs-One (OvO) Multiclass Logistic Regression and print accuracy.\n",
        "\n",
        "from sklearn.multiclass import OneVsOneClassifier\n",
        "\n",
        "# Train One-vs-One Logistic Regression\n",
        "ovo_model = OneVsOneClassifier(LogisticRegression(max_iter=200))\n",
        "ovo_model.fit(X_train, y_train)\n",
        "\n",
        "# Predict and evaluate\n",
        "y_pred_ovo = ovo_model.predict(X_test)\n",
        "accuracy_ovo = accuracy_score(y_test, y_pred_ovo)\n",
        "print(f'One-vs-One Model Accuracy: {accuracy_ovo:.2f}')"
      ],
      "metadata": {
        "id": "Za-U-Qd6EdPR",
        "colab": {
          "base_uri": "https://localhost:8080/"
        },
        "outputId": "dc6affb9-7d0d-48b3-d991-0fdfa93a5390"
      },
      "execution_count": 7,
      "outputs": [
        {
          "output_type": "stream",
          "name": "stdout",
          "text": [
            "One-vs-One Model Accuracy: 1.00\n"
          ]
        }
      ]
    },
    {
      "cell_type": "code",
      "source": [
        "# 11. Write a Python program to train a Logistic Regression model and visualize the confusion matrix for binary classification.\n",
        "\n",
        "import matplotlib.pyplot as plt\n",
        "import seaborn as sns\n",
        "from sklearn.metrics import confusion_matrix\n",
        "\n",
        "# Train Logistic Regression\n",
        "model = LogisticRegression(max_iter=200)\n",
        "model.fit(X_train, y_train)\n",
        "\n",
        "# Predict on the test set\n",
        "y_pred = model.predict(X_test)\n",
        "\n",
        "# Confusion Matrix\n",
        "conf_matrix = confusion_matrix(y_test, y_pred)\n",
        "\n",
        "# Plotting\n",
        "plt.figure(figsize=(8, 6))\n",
        "sns.heatmap(conf_matrix, annot=True, fmt='d', cmap='Blues', xticklabels=['Class 0', 'Class 1'], yticklabels=['Class 0', 'Class 1'])\n",
        "plt.ylabel('Actual')\n",
        "plt.xlabel('Predicted')\n",
        "plt.title('Confusion Matrix')\n",
        "plt.show()"
      ],
      "metadata": {
        "id": "A-_v8pBmEowi",
        "colab": {
          "base_uri": "https://localhost:8080/",
          "height": 564
        },
        "outputId": "07802e80-3049-498c-eef4-62e147cf00ba"
      },
      "execution_count": 8,
      "outputs": [
        {
          "output_type": "display_data",
          "data": {
            "text/plain": [
              "<Figure size 800x600 with 2 Axes>"
            ],
            "image/png": "[encoded data removed]"
          },
          "metadata": {}
        }
      ]
    },
    {
      "cell_type": "code",
      "source": [
        "# 12. Write a Python program to train a Logistic Regression model and evaluate its performance using Precision, Recall, and F1-Score.\n",
        "\n",
        "from sklearn.metrics import precision_score, recall_score, f1_score\n",
        "\n",
        "# Evaluate performance\n",
        "precision = precision_score(y_test, y_pred, average='weighted')\n",
        "recall = recall_score(y_test, y_pred, average='weighted')\n",
        "f1 = f1_score(y_test, y_pred, average='weighted')\n",
        "\n",
        "print(f'Precision: {precision:.2f}')\n",
        "print(f'Recall: {recall:.2f}')\n",
        "print(f'F1 Score: {f1:.2f}')\n"
      ],
      "metadata": {
        "id": "GXqQ7VtfE0_W",
        "colab": {
          "base_uri": "https://localhost:8080/"
        },
        "outputId": "b3bc54d0-a3a9-4885-abce-fed3780506e5"
      },
      "execution_count": null,
      "outputs": [
        {
          "output_type": "stream",
          "name": "stdout",
          "text": [
            "Precision: 0.81\n",
            "Recall: 0.81\n",
            "F1 Score: 0.81\n"
          ]
        }
      ]
    },
    {
      "cell_type": "code",
      "source": [
        "# 13. Write a Python program to train a Logistic Regression model on imbalanced data and apply class weights to improve model performance.\n",
        "\n",
        "\n",
        "from sklearn.datasets import make_classification\n",
        "\n",
        "# Create imbalanced dataset\n",
        "X_imbalanced, y_imbalanced = make_classification(n_classes=2, class_sep=2, weights=[0.9, 0.1], n_informative=3, n_redundant=1, flip_y=0, n_features=20, n_clusters_per_class=1, n_samples=1000, random_state=42)\n",
        "\n",
        "# Split dataset\n",
        "X_train_imb, X_test_imb, y_train_imb, y_test_imb = train_test_split(X_imbalanced, y_imbalanced, test_size=0.2, random_state=42)\n",
        "\n",
        "# Train Logistic Regression with class weights\n",
        "model_imb = LogisticRegression(class_weight='balanced', max_iter=200)\n",
        "model_imb.fit(X_train_imb, y_train_imb)\n",
        "\n",
        "# Predict and evaluate\n",
        "y_pred_imb = model_imb.predict(X_test_imb)\n",
        "accuracy_imb = accuracy_score(y_test_imb, y_pred_imb)\n",
        "print(f'Imbalanced Model Accuracy: {accuracy_imb:.2f}')"
      ],
      "metadata": {
        "id": "LnwY7w8OE-Ep",
        "colab": {
          "base_uri": "https://localhost:8080/"
        },
        "outputId": "b142f837-97eb-42c0-f9c6-e28ea46a8254"
      },
      "execution_count": 9,
      "outputs": [
        {
          "output_type": "stream",
          "name": "stdout",
          "text": [
            "Imbalanced Model Accuracy: 0.99\n"
          ]
        }
      ]
    },
    {
      "cell_type": "code",
      "source": [
        "# 14. Write a Python program to train Logistic Regression on the Titanic dataset, handle missing values, and evaluate performance.\n",
        "\n",
        "\n",
        "import numpy as np\n",
        "import pandas as pd\n",
        "import warnings\n",
        "from sklearn.model_selection import train_test_split\n",
        "from sklearn.linear_model import LogisticRegression\n",
        "from sklearn.metrics import accuracy_score, confusion_matrix, classification_report\n",
        "\n",
        "# Suppress all warnings\n",
        "warnings.filterwarnings(\"ignore\")\n",
        "\n",
        "# Load the Titanic dataset\n",
        "data_titanic = pd.read_csv(\"https://raw.githubusercontent.com/datasciencedojo/datasets/master/titanic.csv\")\n",
        "\n",
        "# Preprocess the dataset\n",
        "# Convert 'Sex' to numeric\n",
        "data_titanic['Sex'] = data_titanic['Sex'].map({'male': 0, 'female': 1})\n",
        "\n",
        "# Fill missing values\n",
        "data_titanic['Age'].fillna(data_titanic['Age'].median(), inplace=True)\n",
        "data_titanic['Embarked'].fillna('S', inplace=True)\n",
        "data_titanic['Embarked'] = data_titanic['Embarked'].map({'C': 0, 'Q': 1, 'S': 2})\n",
        "\n",
        "data_titanic['Fare'].fillna(data_titanic['Fare'].median(), inplace=True)\n",
        "\n",
        "# Drop columns that won't be used for training\n",
        "data_titanic.drop(['Name', 'Ticket', 'Cabin', 'PassengerId'], axis=1, inplace=True)\n",
        "\n",
        "# Select features and target variable\n",
        "X = data_titanic[['Pclass', 'Sex', 'Age', 'SibSp', 'Parch', 'Fare', 'Embarked']]\n",
        "y = data_titanic['Survived']\n",
        "\n",
        "# Split dataset into training and testing sets\n",
        "X_train, X_test, y_train, y_test = train_test_split(X, y, test_size=0.2, random_state=42)\n",
        "\n",
        "# Train Logistic Regression model\n",
        "model = LogisticRegression(max_iter=500, solver='lbfgs', penalty='l2')\n",
        "model.fit(X_train, y_train)\n",
        "\n",
        "# Predict on the test set\n",
        "y_pred = model.predict(X_test)\n",
        "\n",
        "# Evaluate the model\n",
        "accuracy = accuracy_score(y_test, y_pred)\n",
        "conf_matrix = confusion_matrix(y_test, y_pred)\n",
        "class_report = classification_report(y_test, y_pred)\n",
        "\n",
        "# Print results\n",
        "print(f'Model Accuracy: {accuracy:.2f}')\n",
        "print('Confusion Matrix:')\n",
        "print(conf_matrix)\n",
        "print('Classification Report:')\n",
        "print(class_report)\n",
        "\n"
      ],
      "metadata": {
        "colab": {
          "base_uri": "https://localhost:8080/"
        },
        "id": "1MkZtpSLFJZa",
        "outputId": "ca0ab756-833f-470d-9820-b5d859e00b87"
      },
      "execution_count": 10,
      "outputs": [
        {
          "output_type": "stream",
          "name": "stdout",
          "text": [
            "Model Accuracy: 0.81\n",
            "Confusion Matrix:\n",
            "[[90 15]\n",
            " [19 55]]\n",
            "Classification Report:\n",
            "              precision    recall  f1-score   support\n",
            "\n",
            "           0       0.83      0.86      0.84       105\n",
            "           1       0.79      0.74      0.76        74\n",
            "\n",
            "    accuracy                           0.81       179\n",
            "   macro avg       0.81      0.80      0.80       179\n",
            "weighted avg       0.81      0.81      0.81       179\n",
            "\n"
          ]
        }
      ]
    },
    {
      "cell_type": "code",
      "source": [
        "# 15. Write a Python program to apply feature scaling (Standardization) before training a Logistic Regression model. Evaluate its accuracy and compare results with and without scaling.\n",
        "\n",
        "\n",
        "import pandas as pd\n",
        "from sklearn.model_selection import train_test_split\n",
        "from sklearn.linear_model import LogisticRegression\n",
        "from sklearn.metrics import accuracy_score\n",
        "from sklearn.preprocessing import StandardScaler\n",
        "\n",
        "# Load the Titanic dataset\n",
        "data_titanic = pd.read_csv(\"https://raw.githubusercontent.com/datasciencedojo/datasets/master/titanic.csv\")\n",
        "\n",
        "# Preprocess the dataset\n",
        "data_titanic['Sex'] = data_titanic['Sex'].map({'male': 0, 'female': 1})\n",
        "data_titanic['Age'].fillna(data_titanic['Age'].median(), inplace=True)\n",
        "data_titanic['Embarked'].fillna('S', inplace=True)\n",
        "data_titanic['Embarked'] = data_titanic['Embarked'].map({'C': 0, 'Q': 1, 'S': 2})\n",
        "data_titanic.drop(['Name', 'Ticket', 'Cabin'], axis=1, inplace=True)\n",
        "\n",
        "# Select features and target variable\n",
        "X = data_titanic[['Pclass', 'Sex', 'Age', 'SibSp', 'Parch', 'Fare']]\n",
        "y = data_titanic['Survived']\n",
        "\n",
        "# Split dataset into training and testing sets\n",
        "X_train, X_test, y_train, y_test = train_test_split(X, y, test_size=0.2, random_state=42)\n",
        "\n",
        "# Train Logistic Regression without scaling\n",
        "model_no_scaling = LogisticRegression(max_iter=200)\n",
        "model_no_scaling.fit(X_train, y_train)\n",
        "\n",
        "# Predict and evaluate without scaling\n",
        "y_pred_no_scaling = model_no_scaling.predict(X_test)\n",
        "accuracy_no_scaling = accuracy_score(y_test, y_pred_no_scaling)\n",
        "\n",
        "# Apply Standardization (Feature Scaling)\n",
        "scaler = StandardScaler()\n",
        "X_train_scaled = scaler.fit_transform(X_train)\n",
        "X_test_scaled = scaler.transform(X_test)\n",
        "\n",
        "# Train Logistic Regression with scaling\n",
        "model_with_scaling = LogisticRegression(max_iter=200)\n",
        "model_with_scaling.fit(X_train_scaled, y_train)\n",
        "\n",
        "# Predict and evaluate with scaling\n",
        "y_pred_with_scaling = model_with_scaling.predict(X_test_scaled)\n",
        "accuracy_with_scaling = accuracy_score(y_test, y_pred_with_scaling)\n",
        "\n",
        "# Print results\n",
        "print(f'Accuracy without scaling: {accuracy_no_scaling:.2f}')\n",
        "print(f'Accuracy with scaling: {accuracy_with_scaling:.2f}')"
      ],
      "metadata": {
        "colab": {
          "base_uri": "https://localhost:8080/"
        },
        "id": "CzU8GiCGMuwG",
        "outputId": "e94f1655-33b0-4d88-e3b3-352f0c23f8e6"
      },
      "execution_count": 11,
      "outputs": [
        {
          "output_type": "stream",
          "name": "stdout",
          "text": [
            "Accuracy without scaling: 0.81\n",
            "Accuracy with scaling: 0.80\n"
          ]
        }
      ]
    },
    {
      "cell_type": "code",
      "source": [
        "# 16. Write a Python program to train Logistic Regression and evaluate its performance using ROC-AUC score.\n",
        "\n",
        "\n",
        "import pandas as pd\n",
        "from sklearn.model_selection import train_test_split\n",
        "from sklearn.linear_model import LogisticRegression\n",
        "from sklearn.metrics import roc_auc_score, roc_curve\n",
        "import matplotlib.pyplot as plt\n",
        "\n",
        "# Load the Titanic dataset\n",
        "data_titanic = pd.read_csv(\"https://raw.githubusercontent.com/datasciencedojo/datasets/master/titanic.csv\")\n",
        "\n",
        "# Preprocess the dataset\n",
        "data_titanic['Sex'] = data_titanic['Sex'].map({'male': 0, 'female': 1})\n",
        "data_titanic['Age'].fillna(data_titanic['Age'].median(), inplace=True)\n",
        "data_titanic['Embarked'].fillna('S', inplace=True)\n",
        "data_titanic['Embarked'] = data_titanic['Embarked'].map({'C': 0, 'Q': 1, 'S': 2})\n",
        "data_titanic.drop(['Name', 'Ticket', 'Cabin'], axis=1, inplace=True)\n",
        "\n",
        "# Select features and target variable\n",
        "X = data_titanic[['Pclass', 'Sex', 'Age', 'SibSp', 'Parch', 'Fare']]\n",
        "y = data_titanic['Survived']\n",
        "\n",
        "# Split dataset into training and testing sets\n",
        "X_train, X_test, y_train, y_test = train_test_split(X, y, test_size=0.2, random_state=42)\n",
        "\n",
        "# Train Logistic Regression model\n",
        "model = LogisticRegression(max_iter=200)\n",
        "model.fit(X_train, y_train)\n",
        "\n",
        "# Predict probabilities on the test set\n",
        "y_pred_proba = model.predict_proba(X_test)[:, 1]  # Get probabilities for the positive class\n",
        "\n",
        "# Calculate ROC-AUC score\n",
        "roc_auc = roc_auc_score(y_test, y_pred_proba)\n",
        "print(f'ROC-AUC Score: {roc_auc:.2f}')\n",
        "\n",
        "# Plot ROC Curve\n",
        "fpr, tpr, thresholds = roc_curve(y_test, y_pred_proba)\n",
        "\n",
        "plt.figure(figsize=(8, 6))\n",
        "plt.plot(fpr, tpr, color='blue', label='ROC Curve (area = {:.2f})'.format(roc_auc))\n",
        "plt.plot([0, 1], [0, 1], color='red', linestyle='--')  # Diagonal line\n",
        "plt.xlim([0.0, 1.0])\n",
        "plt.ylim([0.0, 1.05])\n",
        "plt.xlabel('False Positive Rate')\n",
        "plt.ylabel('True Positive Rate')\n",
        "plt.title('Receiver Operating Characteristic (ROC) Curve')\n",
        "plt.legend(loc='lower right')\n",
        "plt.grid()\n",
        "plt.show()"
      ],
      "metadata": {
        "id": "V2q52r8iNIIR",
        "colab": {
          "base_uri": "https://localhost:8080/",
          "height": 581
        },
        "outputId": "a1ea5dfa-0dbf-442d-c2d1-a0c8bbdd836c"
      },
      "execution_count": 12,
      "outputs": [
        {
          "output_type": "stream",
          "name": "stdout",
          "text": [
            "ROC-AUC Score: 0.88\n"
          ]
        },
        {
          "output_type": "display_data",
          "data": {
            "text/plain": [
              "<Figure size 800x600 with 1 Axes>"
            ],
            "image/png": "[encoded data removed]"
          },
          "metadata": {}
        }
      ]
    },
    {
      "cell_type": "code",
      "source": [
        "# 17. Write a Python program to train Logistic Regression using a custom learning rate (C=0.5) and evaluate accuracy.\n",
        "\n",
        "\n",
        "import pandas as pd\n",
        "from sklearn.model_selection import train_test_split\n",
        "from sklearn.linear_model import LogisticRegression\n",
        "from sklearn.metrics import accuracy_score\n",
        "\n",
        "# Load the Titanic dataset\n",
        "data_titanic = pd.read_csv(\"https://raw.githubusercontent.com/datasciencedojo/datasets/master/titanic.csv\")\n",
        "\n",
        "# Preprocess the dataset\n",
        "data_titanic['Sex'] = data_titanic['Sex'].map({'male': 0, 'female': 1})\n",
        "data_titanic['Age'].fillna(data_titanic['Age'].median(), inplace=True)\n",
        "data_titanic['Embarked'].fillna('S', inplace=True)\n",
        "data_titanic['Embarked'] = data_titanic['Embarked'].map({'C': 0, 'Q': 1, 'S': 2})\n",
        "data_titanic.drop(['Name', 'Ticket', 'Cabin'], axis=1, inplace=True)\n",
        "\n",
        "# Select features and target variable\n",
        "X = data_titanic[['Pclass', 'Sex', 'Age', 'SibSp', 'Parch', 'Fare']]\n",
        "y = data_titanic['Survived']\n",
        "\n",
        "# Split dataset into training and testing sets\n",
        "X_train, X_test, y_train, y_test = train_test_split(X, y, test_size=0.2, random_state=42)\n",
        "\n",
        "# Train Logistic Regression model with custom learning rate (C=0.5)\n",
        "model = LogisticRegression(C=0.5, max_iter=200)\n",
        "model.fit(X_train, y_train)\n",
        "\n",
        "# Predict on the test set\n",
        "y_pred = model.predict(X_test)\n",
        "\n",
        "# Evaluate accuracy\n",
        "accuracy = accuracy_score(y_test, y_pred)\n",
        "print(f'Model Accuracy with C=0.5: {accuracy:.2f}')"
      ],
      "metadata": {
        "id": "-YxZkfIMNaxb",
        "colab": {
          "base_uri": "https://localhost:8080/"
        },
        "outputId": "55da568f-5c50-4dba-82c3-41092f657bf6"
      },
      "execution_count": 21,
      "outputs": [
        {
          "output_type": "stream",
          "name": "stdout",
          "text": [
            "Model Accuracy with C=0.5: 0.81\n"
          ]
        }
      ]
    },
    {
      "cell_type": "code",
      "source": [
        "# 18. Write a Python program to train Logistic Regression and identify important features based on model coefficients.\n",
        "\n",
        "\n",
        "import pandas as pd\n",
        "from sklearn.model_selection import train_test_split\n",
        "from sklearn.linear_model import LogisticRegression\n",
        "import numpy as np\n",
        "\n",
        "# Load the Titanic dataset\n",
        "data_titanic = pd.read_csv(\"https://raw.githubusercontent.com/datasciencedojo/datasets/master/titanic.csv\")\n",
        "\n",
        "# Preprocess the dataset\n",
        "data_titanic['Sex'] = data_titanic['Sex'].map({'male': 0, 'female': 1})\n",
        "data_titanic['Age'].fillna(data_titanic['Age'].median(), inplace=True)\n",
        "data_titanic['Embarked'].fillna('S', inplace=True)\n",
        "data_titanic['Embarked'] = data_titanic['Embarked'].map({'C': 0, 'Q': 1, 'S': 2})\n",
        "data_titanic.drop(['Name', 'Ticket', 'Cabin'], axis=1, inplace=True)\n",
        "\n",
        "# Select features and target variable\n",
        "X = data_titanic[['Pclass', 'Sex', 'Age', 'SibSp', 'Parch', 'Fare']]\n",
        "y = data_titanic['Survived']\n",
        "\n",
        "# Split dataset into training and testing sets\n",
        "X_train, X_test, y_train, y_test = train_test_split(X, y, test_size=0.2, random_state=42)\n",
        "\n",
        "# Train Logistic Regression model\n",
        "model = LogisticRegression(max_iter=200)\n",
        "model.fit(X_train, y_train)\n",
        "\n",
        "# Get the coefficients of the model\n",
        "coefficients = model.coef_[0]\n",
        "feature_names = X.columns\n",
        "\n",
        "# Create a DataFrame to display feature importance\n",
        "feature_importance = pd.DataFrame({'Feature': feature_names, 'Coefficient': coefficients})\n",
        "feature_importance['Importance'] = np.abs(feature_importance['Coefficient'])  # Use absolute value for importance\n",
        "feature_importance = feature_importance.sort_values(by='Importance', ascending=False)\n",
        "\n",
        "# Print the feature importance\n",
        "print(\"Feature Importance based on model coefficients:\")\n",
        "print(feature_importance)\n",
        "\n",
        "# Optionally, you can also print the accuracy of the model\n",
        "accuracy = model.score(X_test, y_test)\n",
        "print(f'Model Accuracy: {accuracy:.2f}')"
      ],
      "metadata": {
        "colab": {
          "base_uri": "https://localhost:8080/"
        },
        "id": "as7n1ztEN6dC",
        "outputId": "1668b142-bfb5-4698-a323-5b634d9ed669"
      },
      "execution_count": 13,
      "outputs": [
        {
          "output_type": "stream",
          "name": "stdout",
          "text": [
            "Feature Importance based on model coefficients:\n",
            "  Feature  Coefficient  Importance\n",
            "1     Sex     2.610552    2.610552\n",
            "0  Pclass    -0.928176    0.928176\n",
            "3   SibSp    -0.315760    0.315760\n",
            "4   Parch    -0.125206    0.125206\n",
            "2     Age    -0.031450    0.031450\n",
            "5    Fare     0.003434    0.003434\n",
            "Model Accuracy: 0.81\n"
          ]
        }
      ]
    },
    {
      "cell_type": "code",
      "source": [
        "# 19. Write a Python program to train Logistic Regression and evaluate its performance using Cohen’s Kappa Score.\n",
        "\n",
        "\n",
        "import pandas as pd\n",
        "from sklearn.model_selection import train_test_split\n",
        "from sklearn.linear_model import LogisticRegression\n",
        "from sklearn.metrics import cohen_kappa_score, accuracy_score\n",
        "\n",
        "# Load the Titanic dataset\n",
        "data_titanic = pd.read_csv(\"https://raw.githubusercontent.com/datasciencedojo/datasets/master/titanic.csv\")\n",
        "\n",
        "# Preprocess the dataset\n",
        "data_titanic['Sex'] = data_titanic['Sex'].map({'male': 0, 'female': 1})\n",
        "data_titanic['Age'].fillna(data_titanic['Age'].median(), inplace=True)\n",
        "data_titanic['Embarked'].fillna('S', inplace=True)\n",
        "data_titanic['Embarked'] = data_titanic['Embarked'].map({'C': 0, 'Q': 1, 'S': 2})\n",
        "data_titanic.drop(['Name', 'Ticket', 'Cabin'], axis=1, inplace=True)\n",
        "\n",
        "# Select features and target variable\n",
        "X = data_titanic[['Pclass', 'Sex', 'Age', 'SibSp', 'Parch', 'Fare']]\n",
        "y = data_titanic['Survived']\n",
        "\n",
        "# Split dataset into training and testing sets\n",
        "X_train, X_test, y_train, y_test = train_test_split(X, y, test_size=0.2, random_state=42)\n",
        "\n",
        "# Train Logistic Regression model\n",
        "model = LogisticRegression(max_iter=200)\n",
        "model.fit(X_train, y_train)\n",
        "\n",
        "# Predict on the test set\n",
        "y_pred = model.predict(X_test)\n",
        "\n",
        "# Evaluate accuracy\n",
        "accuracy = accuracy_score(y_test, y_pred)\n",
        "kappa_score = cohen_kappa_score(y_test, y_pred)\n",
        "\n",
        "# Print results\n",
        "print(f'Model Accuracy: {accuracy:.2f}')\n",
        "print(f'Cohen’s Kappa Score: {kappa_score:.2f}')\n"
      ],
      "metadata": {
        "colab": {
          "base_uri": "https://localhost:8080/"
        },
        "id": "60lf-ecGObH3",
        "outputId": "a813780d-976e-4a5b-cdcb-810796faf6a1"
      },
      "execution_count": 14,
      "outputs": [
        {
          "output_type": "stream",
          "name": "stdout",
          "text": [
            "Model Accuracy: 0.81\n",
            "Cohen’s Kappa Score: 0.60\n"
          ]
        }
      ]
    },
    {
      "cell_type": "code",
      "source": [
        "# 20. Write a Python program to train Logistic Regression and visualize the Precision-Recall Curve for binary classification.\n",
        "\n",
        "\n",
        "import pandas as pd\n",
        "import numpy as np\n",
        "import matplotlib.pyplot as plt\n",
        "from sklearn.model_selection import train_test_split\n",
        "from sklearn.linear_model import LogisticRegression\n",
        "from sklearn.metrics import precision_recall_curve, average_precision_score\n",
        "\n",
        "# Load the Titanic dataset\n",
        "data_titanic = pd.read_csv(\"https://raw.githubusercontent.com/datasciencedojo/datasets/master/titanic.csv\")\n",
        "\n",
        "# Preprocess the dataset\n",
        "data_titanic['Sex'] = data_titanic['Sex'].map({'male': 0, 'female': 1})\n",
        "data_titanic['Age'].fillna(data_titanic['Age'].median(), inplace=True)\n",
        "data_titanic['Embarked'].fillna('S', inplace=True)\n",
        "data_titanic['Embarked'] = data_titanic['Embarked'].map({'C': 0, 'Q': 1, 'S': 2})\n",
        "data_titanic.drop(['Name', 'Ticket', 'Cabin'], axis=1, inplace=True)\n",
        "\n",
        "# Select features and target variable\n",
        "X = data_titanic[['Pclass', 'Sex', 'Age', 'SibSp', 'Parch', 'Fare']]\n",
        "y = data_titanic['Survived']\n",
        "\n",
        "# Split dataset into training and testing sets\n",
        "X_train, X_test, y_train, y_test = train_test_split(X, y, test_size=0.2, random_state=42)\n",
        "\n",
        "# Train Logistic Regression model\n",
        "model = LogisticRegression(max_iter=200)\n",
        "model.fit(X_train, y_train)\n",
        "\n",
        "# Predict probabilities on the test set\n",
        "y_scores = model.predict_proba(X_test)[:, 1]  # Get probabilities for the positive class\n",
        "\n",
        "# Calculate precision and recall\n",
        "precision, recall, _ = precision_recall_curve(y_test, y_scores)\n",
        "average_precision = average_precision_score(y_test, y_scores)\n",
        "\n",
        "# Plot Precision-Recall Curve\n",
        "plt.figure(figsize=(8, 6))\n",
        "plt.plot(recall, precision, marker='.', label='Precision-Recall curve (AP = {:.2f})'.format(average_precision))\n",
        "plt.xlabel('Recall')\n",
        "plt.ylabel('Precision')\n",
        "plt.title('Precision-Recall Curve')\n",
        "plt.legend()\n",
        "plt.grid()\n",
        "plt.show()"
      ],
      "metadata": {
        "colab": {
          "base_uri": "https://localhost:8080/",
          "height": 564
        },
        "id": "1-T-dl9-Pvqe",
        "outputId": "9009b4dc-53c2-480d-9937-6e1408ec8c23"
      },
      "execution_count": 15,
      "outputs": [
        {
          "output_type": "display_data",
          "data": {
            "text/plain": [
              "<Figure size 800x600 with 1 Axes>"
            ],
            "image/png": "[encoded data removed]"
          },
          "metadata": {}
        }
      ]
    },
    {
      "cell_type": "code",
      "source": [
        "# 21. Write a Python program to train Logistic Regression with different solvers (liblinear, saga, lbfgs) and compare their accuracy.\n",
        "\n",
        "\n",
        "import pandas as pd\n",
        "from sklearn.model_selection import train_test_split\n",
        "from sklearn.linear_model import LogisticRegression\n",
        "from sklearn.metrics import accuracy_score\n",
        "\n",
        "# Load the Titanic dataset\n",
        "data_titanic = pd.read_csv(\"https://raw.githubusercontent.com/datasciencedojo/datasets/master/titanic.csv\")\n",
        "\n",
        "# Preprocess the dataset\n",
        "data_titanic['Sex'] = data_titanic['Sex'].map({'male': 0, 'female': 1})\n",
        "data_titanic['Age'].fillna(data_titanic['Age'].median(), inplace=True)\n",
        "data_titanic['Embarked'].fillna('S', inplace=True)\n",
        "data_titanic['Embarked'] = data_titanic['Embarked'].map({'C': 0, 'Q': 1, 'S': 2})\n",
        "data_titanic.drop(['Name', 'Ticket', 'Cabin'], axis=1, inplace=True)\n",
        "\n",
        "# Select features and target variable\n",
        "X = data_titanic[['Pclass', 'Sex', 'Age', 'SibSp', 'Parch', 'Fare']]\n",
        "y = data_titanic['Survived']\n",
        "\n",
        "# Split dataset into training and testing sets\n",
        "X_train, X_test, y_train, y_test = train_test_split(X, y, test_size=0.2, random_state=42)\n",
        "\n",
        "# List of solvers to compare\n",
        "solvers = ['liblinear', 'saga', 'lbfgs']\n",
        "accuracies = {}\n",
        "\n",
        "# Train Logistic Regression with different solvers and evaluate accuracy\n",
        "for solver in solvers:\n",
        "    model = LogisticRegression(solver=solver, max_iter=200)\n",
        "    model.fit(X_train, y_train)\n",
        "    y_pred = model.predict(X_test)\n",
        "    accuracy = accuracy_score(y_test, y_pred)\n",
        "    accuracies[solver] = accuracy\n",
        "    print(f'Accuracy with solver \"{solver}\": {accuracy:.2f}')\n",
        "\n",
        "# Print all accuracies\n",
        "print(\"\\nAccuracy comparison for different solvers:\")\n",
        "for solver, accuracy in accuracies.items():\n",
        "    print(f'Solver: {solver}, Accuracy: {accuracy:.2f}')"
      ],
      "metadata": {
        "id": "rMKxRTnrQKAm",
        "colab": {
          "base_uri": "https://localhost:8080/"
        },
        "outputId": "9401b042-1b23-4642-f714-2cfcc0eeb8b3"
      },
      "execution_count": 16,
      "outputs": [
        {
          "output_type": "stream",
          "name": "stdout",
          "text": [
            "Accuracy with solver \"liblinear\": 0.79\n",
            "Accuracy with solver \"saga\": 0.68\n",
            "Accuracy with solver \"lbfgs\": 0.81\n",
            "\n",
            "Accuracy comparison for different solvers:\n",
            "Solver: liblinear, Accuracy: 0.79\n",
            "Solver: saga, Accuracy: 0.68\n",
            "Solver: lbfgs, Accuracy: 0.81\n"
          ]
        }
      ]
    },
    {
      "cell_type": "code",
      "source": [
        "# 22.  Write a Python program to train Logistic Regression and evaluate its performance using Matthews Correlation Coefficient (MCC).\n",
        "\n",
        "\n",
        "import pandas as pd\n",
        "from sklearn.model_selection import train_test_split\n",
        "from sklearn.linear_model import LogisticRegression\n",
        "from sklearn.metrics import matthews_corrcoef, accuracy_score\n",
        "\n",
        "# Load the Titanic dataset\n",
        "data_titanic = pd.read_csv(\"https://raw.githubusercontent.com/datasciencedojo/datasets/master/titanic.csv\")\n",
        "\n",
        "# Preprocess the dataset\n",
        "data_titanic['Sex'] = data_titanic['Sex'].map({'male': 0, 'female': 1})\n",
        "data_titanic['Age'].fillna(data_titanic['Age'].median(), inplace=True)\n",
        "data_titanic['Embarked'].fillna('S', inplace=True)\n",
        "data_titanic['Embarked'] = data_titanic['Embarked'].map({'C': 0, 'Q': 1, 'S': 2})\n",
        "data_titanic.drop(['Name', 'Ticket', 'Cabin'], axis=1, inplace=True)\n",
        "\n",
        "# Select features and target variable\n",
        "X = data_titanic[['Pclass', 'Sex', 'Age', 'SibSp', 'Parch', 'Fare']]\n",
        "y = data_titanic['Survived']\n",
        "\n",
        "# Split dataset into training and testing sets\n",
        "X_train, X_test, y_train, y_test = train_test_split(X, y, test_size=0.2, random_state=42)\n",
        "\n",
        "# Train Logistic Regression model\n",
        "model = LogisticRegression(max_iter=200)\n",
        "model.fit(X_train, y_train)\n",
        "\n",
        "# Predict on the test set\n",
        "y_pred = model.predict(X_test)\n",
        "\n",
        "# Evaluate accuracy and Matthews Correlation Coefficient\n",
        "accuracy = accuracy_score(y_test, y_pred)\n",
        "mcc = matthews_corrcoef(y_test, y_pred)\n",
        "\n",
        "# Print results\n",
        "print(f'Model Accuracy: {accuracy:.2f}')\n",
        "print(f'Matthews Correlation Coefficient (MCC): {mcc:.2f}')"
      ],
      "metadata": {
        "colab": {
          "base_uri": "https://localhost:8080/"
        },
        "id": "LOPlqMszQh_S",
        "outputId": "5f724635-6ce5-453a-8e1b-95e8fa700432"
      },
      "execution_count": 17,
      "outputs": [
        {
          "output_type": "stream",
          "name": "stdout",
          "text": [
            "Model Accuracy: 0.81\n",
            "Matthews Correlation Coefficient (MCC): 0.60\n"
          ]
        }
      ]
    },
    {
      "cell_type": "code",
      "source": [
        "# 23. Write a Python program to train Logistic Regression on both raw and standardized data. Compare their accuracy to see the impact of feature scaling.\n",
        "\n",
        "\n",
        "import pandas as pd\n",
        "from sklearn.model_selection import train_test_split\n",
        "from sklearn.linear_model import LogisticRegression\n",
        "from sklearn.metrics import accuracy_score\n",
        "from sklearn.preprocessing import StandardScaler\n",
        "\n",
        "# Load the Titanic dataset\n",
        "data_titanic = pd.read_csv(\"https://raw.githubusercontent.com/datasciencedojo/datasets/master/titanic.csv\")\n",
        "\n",
        "# Preprocess the dataset\n",
        "data_titanic['Sex'] = data_titanic['Sex'].map({'male': 0, 'female': 1})\n",
        "data_titanic['Age'].fillna(data_titanic['Age'].median(), inplace=True)\n",
        "data_titanic['Embarked'].fillna('S', inplace=True)\n",
        "data_titanic['Embarked'] = data_titanic['Embarked'].map({'C': 0, 'Q': 1, 'S': 2})\n",
        "data_titanic.drop(['Name', 'Ticket', 'Cabin'], axis=1, inplace=True)\n",
        "\n",
        "# Select features and target variable\n",
        "X = data_titanic[['Pclass', 'Sex', 'Age', 'SibSp', 'Parch', 'Fare']]\n",
        "y = data_titanic['Survived']\n",
        "\n",
        "# Split dataset into training and testing sets\n",
        "X_train, X_test, y_train, y_test = train_test_split(X, y, test_size=0.2, random_state=42)\n",
        "\n",
        "# Train Logistic Regression on raw data\n",
        "model_raw = LogisticRegression(max_iter=200)\n",
        "model_raw.fit(X_train, y_train)\n",
        "\n",
        "# Predict and evaluate accuracy on raw data\n",
        "y_pred_raw = model_raw.predict(X_test)\n",
        "accuracy_raw = accuracy_score(y_test, y_pred_raw)\n",
        "\n",
        "# Standardize the features\n",
        "scaler = StandardScaler()\n",
        "X_train_scaled = scaler.fit_transform(X_train)\n",
        "X_test_scaled = scaler.transform(X_test)\n",
        "\n",
        "# Train Logistic Regression on standardized data\n",
        "model_scaled = LogisticRegression(max_iter=200)\n",
        "model_scaled.fit(X_train_scaled, y_train)\n",
        "\n",
        "# Predict and evaluate accuracy on standardized data\n",
        "y_pred_scaled = model_scaled.predict(X_test_scaled)\n",
        "accuracy_scaled = accuracy_score(y_test, y_pred_scaled)\n",
        "\n",
        "# Print results\n",
        "print(f'Accuracy on raw data: {accuracy_raw:.2f}')\n",
        "print(f'Accuracy on standardized data: {accuracy_scaled:.2f}')\n"
      ],
      "metadata": {
        "colab": {
          "base_uri": "https://localhost:8080/"
        },
        "id": "kxvEJgt1Q6zF",
        "outputId": "3fa4e767-2c74-43e3-960d-a2f52c27ccfd"
      },
      "execution_count": 18,
      "outputs": [
        {
          "output_type": "stream",
          "name": "stdout",
          "text": [
            "Accuracy on raw data: 0.81\n",
            "Accuracy on standardized data: 0.80\n"
          ]
        }
      ]
    },
    {
      "cell_type": "code",
      "source": [
        "# 24. Write a Python program to train Logistic Regression and find the optimal C (regularization strength) using cross-validation.\n",
        "\n",
        "\n",
        "import pandas as pd\n",
        "from sklearn.model_selection import train_test_split, GridSearchCV\n",
        "from sklearn.linear_model import LogisticRegression\n",
        "from sklearn.metrics import accuracy_score\n",
        "\n",
        "# Load the Titanic dataset\n",
        "data_titanic = pd.read_csv(\"https://raw.githubusercontent.com/datasciencedojo/datasets/master/titanic.csv\")\n",
        "\n",
        "# Preprocess the dataset\n",
        "data_titanic['Sex'] = data_titanic['Sex'].map({'male': 0, 'female': 1})\n",
        "data_titanic['Age'].fillna(data_titanic['Age'].median(), inplace=True)\n",
        "data_titanic['Embarked'].fillna('S', inplace=True)\n",
        "data_titanic['Embarked'] = data_titanic['Embarked'].map({'C': 0, 'Q': 1, 'S': 2})\n",
        "data_titanic.drop(['Name', 'Ticket', 'Cabin'], axis=1, inplace=True)\n",
        "\n",
        "# Select features and target variable\n",
        "X = data_titanic[['Pclass', 'Sex', 'Age', 'SibSp', 'Parch', 'Fare']]\n",
        "y = data_titanic['Survived']\n",
        "\n",
        "# Split dataset into training and testing sets\n",
        "X_train, X_test, y_train, y_test = train_test_split(X, y, test_size=0.2, random_state=42)\n",
        "\n",
        "# Define the parameter grid for C\n",
        "param_grid = {'C': [0.01, 0.1, 1, 10, 100]}\n",
        "\n",
        "# Create a Logistic Regression model\n",
        "model = LogisticRegression(max_iter=200)\n",
        "\n",
        "# Create a GridSearchCV object\n",
        "grid_search = GridSearchCV(model, param_grid, cv=5, scoring='accuracy')\n",
        "grid_search.fit(X_train, y_train)\n",
        "\n",
        "# Get the best parameters and the best score\n",
        "best_C = grid_search.best_params_['C']\n",
        "best_score = grid_search.best_score_\n",
        "\n",
        "# Predict on the test set using the best model\n",
        "best_model = grid_search.best_estimator_\n",
        "y_pred = best_model.predict(X_test)\n",
        "\n",
        "# Evaluate accuracy on the test set\n",
        "accuracy = accuracy_score(y_test, y_pred)\n",
        "\n",
        "# Print results\n",
        "print(f'Optimal C: {best_C}')\n",
        "print(f'Best Cross-Validation Accuracy: {best_score:.2f}')\n",
        "print(f'Test Set Accuracy: {accuracy:.2f}')\n",
        "\n",
        "\n"
      ],
      "metadata": {
        "colab": {
          "base_uri": "https://localhost:8080/"
        },
        "id": "HPC6l93uRVKd",
        "outputId": "b349d314-d7b4-4495-c77f-6815d32f518f"
      },
      "execution_count": 19,
      "outputs": [
        {
          "output_type": "stream",
          "name": "stdout",
          "text": [
            "Optimal C: 0.1\n",
            "Best Cross-Validation Accuracy: 0.79\n",
            "Test Set Accuracy: 0.82\n"
          ]
        }
      ]
    },
    {
      "cell_type": "code",
      "source": [
        "# 25. Write a Python program to train Logistic Regression, save the trained model using joblib, and load it again to make predictions.\n",
        "\n",
        "\n",
        "import pandas as pd\n",
        "from sklearn.model_selection import train_test_split\n",
        "from sklearn.linear_model import LogisticRegression\n",
        "from sklearn.metrics import accuracy_score\n",
        "import joblib\n",
        "\n",
        "# Load the Titanic dataset\n",
        "data_titanic = pd.read_csv(\"https://raw.githubusercontent.com/datasciencedojo/datasets/master/titanic.csv\")\n",
        "\n",
        "# Preprocess the dataset\n",
        "data_titanic['Sex'] = data_titanic['Sex'].map({'male': 0, 'female': 1})\n",
        "data_titanic['Age'].fillna(data_titanic['Age'].median(), inplace=True)\n",
        "data_titanic['Embarked'].fillna('S', inplace=True)\n",
        "data_titanic['Embarked'] = data_titanic['Embarked'].map({'C': 0, 'Q': 1, 'S': 2})\n",
        "data_titanic.drop(['Name', 'Ticket', 'Cabin'], axis=1, inplace=True)\n",
        "\n",
        "# Select features and target variable\n",
        "X = data_titanic[['Pclass', 'Sex', 'Age', 'SibSp', 'Parch', 'Fare']]\n",
        "y = data_titanic['Survived']\n",
        "\n",
        "# Split dataset into training and testing sets\n",
        "X_train, X_test, y_train, y_test = train_test_split(X, y, test_size=0.2, random_state=42)\n",
        "\n",
        "# Train Logistic Regression model\n",
        "model = LogisticRegression(max_iter=200)\n",
        "model.fit(X_train, y_train)\n",
        "\n",
        "# Save the trained model using joblib\n",
        "joblib.dump(model, 'logistic_regression_model.joblib')\n",
        "\n",
        "# Load the model back\n",
        "loaded_model = joblib.load('logistic_regression_model.joblib')\n",
        "\n",
        "# Make predictions using the loaded model\n",
        "y_pred = loaded_model.predict(X_test)\n",
        "\n",
        "# Evaluate accuracy on the test set\n",
        "accuracy = accuracy_score(y_test, y_pred)\n",
        "\n",
        "# Print results\n",
        "print(f'Test Set Accuracy: {accuracy:.2f}')"
      ],
      "metadata": {
        "colab": {
          "base_uri": "https://localhost:8080/"
        },
        "id": "jxJs5TWzR1CN",
        "outputId": "c4ef4c82-f3d3-4268-80b5-4d41e7fb4aee"
      },
      "execution_count": 20,
      "outputs": [
        {
          "output_type": "stream",
          "name": "stdout",
          "text": [
            "Test Set Accuracy: 0.81\n"
          ]
        }
      ]
    }
  ]
}